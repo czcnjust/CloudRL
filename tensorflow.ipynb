{
 "cells": [
  {
   "cell_type": "code",
   "execution_count": 10,
   "metadata": {},
   "outputs": [
    {
     "name": "stdout",
     "output_type": "stream",
     "text": [
      "Tensor(\"a_1:0\", shape=(2,), dtype=int32)\n",
      "Tensor(\"add_1:0\", shape=(2,), dtype=int32)\n"
     ]
    }
   ],
   "source": [
    "import tensorflow as tf\n",
    "a=tf.constant([1,2],name=\"a\")\n",
    "b=tf.constant([2,3],name=\"b\")\n",
    "result=a+b\n",
    "print(a)\n",
    "print (result)"
   ]
  },
  {
   "cell_type": "markdown",
   "metadata": {},
   "source": [
    "### 1.输入向量 1X2矩阵"
   ]
  },
  {
   "cell_type": "code",
   "execution_count": 27,
   "metadata": {},
   "outputs": [],
   "source": [
    "#x=tf.constant([[0.7,0.9]])\n",
    "x=tf.placeholder(tf.float32,shape=(None,2),name=\"x-input\")\n",
    "y_=tf.placeholder(tf.float32,shape=(None,1),name=\"y-input\")"
   ]
  },
  {
   "cell_type": "markdown",
   "metadata": {},
   "source": [
    "### 2. 声明w1和w2两个变量，分别对应第一层和第二层参数"
   ]
  },
  {
   "cell_type": "code",
   "execution_count": 30,
   "metadata": {},
   "outputs": [
    {
     "name": "stdout",
     "output_type": "stream",
     "text": [
      "<tf.Variable 'Variable_3:0' shape=(2, 3) dtype=float32_ref>\n",
      "<tf.Variable 'Variable_4:0' shape=(3, 1) dtype=float32_ref>\n"
     ]
    }
   ],
   "source": [
    "w1=tf.Variable(tf.random_normal((2,3),stddev=1,seed=1))\n",
    "w2=tf.Variable(tf.random_normal((3,1),stddev=1,seed=1))\n",
    "print(w1)\n",
    "print(w2)"
   ]
  },
  {
   "cell_type": "markdown",
   "metadata": {},
   "source": [
    "### 3. 前向传播"
   ]
  },
  {
   "cell_type": "code",
   "execution_count": 31,
   "metadata": {},
   "outputs": [
    {
     "name": "stdout",
     "output_type": "stream",
     "text": [
      "Tensor(\"MatMul_9:0\", shape=(?, 3), dtype=float32)\n",
      "Tensor(\"MatMul_10:0\", shape=(?, 1), dtype=float32)\n",
      "[[3.957578 ]\n",
      " [1.1537654]\n",
      " [3.1674924]]\n"
     ]
    }
   ],
   "source": [
    "a=tf.matmul(x,w1)\n",
    "print(a)\n",
    "y=tf.matmul(a,w2)\n",
    "print(y)\n",
    "with tf.Session() as sess:\n",
    "    sess.run(w1.initializer)\n",
    "    sess.run(w2.initializer)\n",
    "    print(sess.run(y,feed_dict={x:[[0.7,0.9],[0.1,0.4],[0.5,0.8]]}))\n"
   ]
  },
  {
   "cell_type": "markdown",
   "metadata": {},
   "source": [
    "### 4.定义损失函数"
   ]
  },
  {
   "cell_type": "code",
   "execution_count": 32,
   "metadata": {},
   "outputs": [
    {
     "name": "stdout",
     "output_type": "stream",
     "text": [
      "Tensor(\"Sigmoid_3:0\", shape=(?, 1), dtype=float32)\n",
      "Tensor(\"mul_5:0\", shape=(?, 1), dtype=float32)\n"
     ]
    }
   ],
   "source": [
    "y=tf.sigmoid(y)\n",
    "print(y)\n",
    "print(y*y_)\n",
    "#用交叉熵定义损失函数\n",
    "cross_entropy=-tf.reduce_mean(y_*tf.log(tf.clip_by_value(y,1e-10,1.0))+(1-y_)*tf.log(tf.clip_by_value(1-y,1e-10,1.0)))\n",
    "train_step=tf.train.AdamOptimizer(0.001).minimize(cross_entropy)"
   ]
  },
  {
   "cell_type": "code",
   "execution_count": 1,
   "metadata": {
    "scrolled": true
   },
   "outputs": [
    {
     "name": "stderr",
     "output_type": "stream",
     "text": [
      "/home/czc/anaconda3/lib/python3.6/site-packages/h5py/__init__.py:36: FutureWarning: Conversion of the second argument of issubdtype from `float` to `np.floating` is deprecated. In future, it will be treated as `np.float64 == np.dtype(float).type`.\n",
      "  from ._conv import register_converters as _register_converters\n"
     ]
    },
    {
     "name": "stdout",
     "output_type": "stream",
     "text": [
      "Tensor(\"add:0\", shape=(2,), dtype=int32)\n",
      "<tf.Variable '123/456/789/c:0' shape=() dtype=float32_ref>\n",
      "<tf.Variable '789/d:0' shape=(1,) dtype=float32_ref>\n"
     ]
    }
   ],
   "source": [
    "import tensorflow as tf\n",
    "a=tf.constant([1,2],name=\"a\")\n",
    "b=tf.constant([2,3],name=\"b\")\n",
    "result=a+b\n",
    "print (result)\n",
    "with tf.name_scope('123'):\n",
    "    with tf.name_scope('456'):\n",
    "        with tf.variable_scope('789'):\n",
    "            c=tf.Variable(3,name='c',dtype=tf.float32)\n",
    "            print(c)\n",
    "            d=tf.get_variable('d',1)\n",
    "            print(d)\n"
   ]
  },
  {
   "cell_type": "code",
   "execution_count": 3,
   "metadata": {},
   "outputs": [],
   "source": [
    "g=tf.get_default_graph()\n",
    "tf.summary.FileWriter(\"logs\",g).close()\n"
   ]
  },
  {
   "cell_type": "code",
   "execution_count": 12,
   "metadata": {},
   "outputs": [
    {
     "name": "stdout",
     "output_type": "stream",
     "text": [
      "/bin/sh: 1: tensorboard: not found\r\n"
     ]
    }
   ],
   "source": [
    "!tensorboard --logdir = \"logs\""
   ]
  },
  {
   "cell_type": "code",
   "execution_count": 2,
   "metadata": {},
   "outputs": [
    {
     "name": "stdout",
     "output_type": "stream",
     "text": [
      "Tensor(\"mul:0\", shape=(), dtype=float32)\n",
      "9.0\n"
     ]
    }
   ],
   "source": [
    "y=c*3\n",
    "print(y)\n",
    "\n",
    "with tf.Session() as sess:\n",
    "    init_op = tf.global_variables_initializer()\n",
    "    sess.run(init_op)\n",
    "    print(sess.run(y))\n"
   ]
  },
  {
   "cell_type": "code",
   "execution_count": null,
   "metadata": {},
   "outputs": [],
   "source": []
  }
 ],
 "metadata": {
  "kernelspec": {
   "display_name": "Python 3",
   "language": "python",
   "name": "python3"
  },
  "language_info": {
   "codemirror_mode": {
    "name": "ipython",
    "version": 3
   },
   "file_extension": ".py",
   "mimetype": "text/x-python",
   "name": "python",
   "nbconvert_exporter": "python",
   "pygments_lexer": "ipython3",
   "version": "3.6.5"
  }
 },
 "nbformat": 4,
 "nbformat_minor": 2
}
